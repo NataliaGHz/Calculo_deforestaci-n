{
 "cells": [
  {
   "cell_type": "markdown",
   "id": "7520dd99-32f7-4404-8a93-ea513d0c27e5",
   "metadata": {},
   "source": [
    "## 🛰️ Imágenes de Cobertura y Uso del Suelo de MapBiomas Colombia – Colección 2 (1985–2023)\n",
    "\n",
    "La Colección 2 de MapBiomas Colombia (1985–2023) ofrece mapas anuales de cobertura y uso del suelo generados a partir de series temporales de imágenes satelitales. Estos datos están disponibles de forma pública como un **asset en Google Earth Engine (GEE)**.\n",
    "\n",
    "### 📦 Asset disponible en GEE\n",
    "- **asset:** projects/mapbiomas-public/assets/colombia/collection2/mapbiomas_colombia_collection2_integration_v1\n",
    "\n",
    "Este asset corresponde a una **imagen multibanda**, donde cada banda representa un año específico. Por ejemplo:\n",
    "\n",
    "- `classification_1985`\n",
    "- `classification_2001`\n",
    "- `classification_2022`\n",
    "- `classification_2023`\n",
    "\n",
    "---\n",
    "\n",
    "## 🧪 Requisitos para usar en JupyterLab desde Docker\n",
    "\n",
    "### 1. Instalar librerías necesarias dentro del contenedor\n",
    "\n",
    "En una celda de Jupyter o desde la terminal del contenedor, es necesario ejecutar:\n",
    "\n",
    "```bash\n",
    "pip install earthengine-api geemap jupyter-leaflet\n"
   ]
  },
  {
   "cell_type": "markdown",
   "id": "84480e13-ab83-43f7-9374-4d5274258428",
   "metadata": {},
   "source": [
    "| 📦 Paquete           | 📝 Función                                                                 |\n",
    "|----------------------|---------------------------------------------------------------------------|\n",
    "| `earthengine-api`    | Para acceder al catálogo de Google Earth Engine (GEE)                     |\n",
    "| `geemap`             | Para visualizar datos geoespaciales en mapas interactivos                |\n",
    "| `jupyter-leaflet`    | Para mostrar mapas dentro de JupyterLab usando `geemap`                  |"
   ]
  },
  {
   "cell_type": "markdown",
   "id": "6a5ba1a7-ae8e-460f-896d-5f2d98dfa2fa",
   "metadata": {},
   "source": [
    "### 2. 🔐 Autenticación en Google Earth Engine\n",
    "\n",
    "Desde el notebook, ejecuta el siguiente código para autenticar tu cuenta de Google Earth Engine:\n",
    "\n",
    "```python\n",
    "import ee\n",
    "\n",
    "# Solo es necesario la primera vez\n",
    "ee.Authenticate()\n",
    "ee.Initialize()\n",
    "```\n",
    "Esto abrirá un enlace en tu navegador donde deberás iniciar sesión con tu cuenta de Google asociada a Earth Engine.\n",
    "Luego, copia el código de verificación que te aparece y pégalo en el campo solicitado del notebook.\n",
    "\n",
    "✅ Este paso solo es necesario una vez por entorno. Si cierras el contenedor o cambias de entorno, puede que debas volver a autenticarte.\n"
   ]
  },
  {
   "cell_type": "code",
   "execution_count": 1,
   "id": "7224d789-e09d-48c4-b6f0-1791407dfa78",
   "metadata": {
    "scrolled": true
   },
   "outputs": [
    {
     "name": "stdout",
     "output_type": "stream",
     "text": [
      "✅Auteticación y conexión con Google Earth Engine exitosa\n"
     ]
    }
   ],
   "source": [
    "import sys\n",
    "sys.path.append(\"../src\")\n",
    "import data_preprocessing\n",
    "data_preprocessing.authenticate_earth_engine()"
   ]
  },
  {
   "cell_type": "code",
   "execution_count": 2,
   "id": "f219769e-341a-40ee-b839-4e9f49bd87dd",
   "metadata": {},
   "outputs": [
    {
     "name": "stdout",
     "output_type": "stream",
     "text": [
      "['classification_1985', 'classification_1986', 'classification_1987', 'classification_1988', 'classification_1989', 'classification_1990', 'classification_1991', 'classification_1992', 'classification_1993', 'classification_1994', 'classification_1995', 'classification_1996', 'classification_1997', 'classification_1998', 'classification_1999', 'classification_2000', 'classification_2001', 'classification_2002', 'classification_2003', 'classification_2004', 'classification_2005', 'classification_2006', 'classification_2007', 'classification_2008', 'classification_2009', 'classification_2010', 'classification_2011', 'classification_2012', 'classification_2013', 'classification_2014', 'classification_2015', 'classification_2016', 'classification_2017', 'classification_2018', 'classification_2019', 'classification_2020', 'classification_2021', 'classification_2022', 'classification_2023']\n"
     ]
    }
   ],
   "source": [
    "imagen = data_preprocessing.load_mapbiomas_asset()\n",
    "print (imagen.bandNames().getInfo())"
   ]
  },
  {
   "cell_type": "markdown",
   "id": "8941f886-c37d-451f-ac9b-3b1208749453",
   "metadata": {},
   "source": [
    "# ✂️ Recorte y reproyección de capas vectoriales (SHP) a EPSG:9377\n",
    "Este flujo permite recortar y reproyectar capas como departamentos, resguardos indígenas y áreas protegidas."
   ]
  },
  {
   "cell_type": "markdown",
   "id": "43ea696b-c597-4563-9d10-b6caff2d7e7b",
   "metadata": {},
   "source": [
    "## 1. 📁 Cargar los archivos .shp"
   ]
  },
  {
   "cell_type": "code",
   "execution_count": 3,
   "id": "7197d97e-cb8c-48eb-aeb6-c19c1533e26d",
   "metadata": {},
   "outputs": [
    {
     "name": "stdout",
     "output_type": "stream",
     "text": [
      "✅Finalizó la función load_geospatial_layers\n"
     ]
    }
   ],
   "source": [
    "dept, reg, resg, runap = data_preprocessing.load_geospatial_layers(\"DATOS\")"
   ]
  },
  {
   "cell_type": "markdown",
   "id": "a4d792b1-8f11-4cec-a04a-489b3cdcb672",
   "metadata": {},
   "source": [
    "## 2. 🧭 Asegurar proyecciones y recortar por Colombia"
   ]
  },
  {
   "cell_type": "code",
   "execution_count": 4,
   "id": "06bd4546-36f9-4953-8882-7400ed984fe8",
   "metadata": {},
   "outputs": [
    {
     "name": "stdout",
     "output_type": "stream",
     "text": [
      "✅Finalizó la función reproject_layers\n"
     ]
    }
   ],
   "source": [
    "# Reproyectar las capas\n",
    "dept_9377, resg_9377, runap_9377, reg_9377 = data_preprocessing.reproject_layers(dept, resg, runap, reg)"
   ]
  },
  {
   "cell_type": "markdown",
   "id": "81d4cbe3-ff39-4a27-939c-9e7d3fd5fa61",
   "metadata": {},
   "source": [
    "## 3. ✂️ Recortar capas al área de estudio"
   ]
  },
  {
   "cell_type": "code",
   "execution_count": 5,
   "id": "4df297ac-bcdb-484a-952c-330f1551b71e",
   "metadata": {},
   "outputs": [
    {
     "name": "stdout",
     "output_type": "stream",
     "text": [
      "✅Finalizó la función clip_layers_to_region\n"
     ]
    }
   ],
   "source": [
    "# Recortar las capas a la región amazónica\n",
    "dept_ama, resg_ama, runap_ama, region_ama = data_preprocessing.clip_layers_to_region(dept_9377, resg_9377, runap_9377, reg_9377)"
   ]
  },
  {
   "cell_type": "markdown",
   "id": "7a6feff1-6ddb-4458-a091-451f958a4d54",
   "metadata": {},
   "source": [
    "## 4. ✅ 1. Guardar las capas recortadas y reproyectadas"
   ]
  },
  {
   "cell_type": "code",
   "execution_count": 6,
   "id": "ff69b6aa-bf1c-4805-ad41-cce2ae98f991",
   "metadata": {},
   "outputs": [
    {
     "name": "stdout",
     "output_type": "stream",
     "text": [
      "✅ Capas guardadas correctamente en: SALIDAS\n"
     ]
    }
   ],
   "source": [
    "# Guardar las capas recortadas y reproyectadas\n",
    "data_preprocessing.save_layers(dept_ama, resg_ama, runap_ama, region_ama, \"SALIDAS\")"
   ]
  }
 ],
 "metadata": {
  "kernelspec": {
   "display_name": "Python 3 (ipykernel)",
   "language": "python",
   "name": "python3"
  },
  "language_info": {
   "codemirror_mode": {
    "name": "ipython",
    "version": 3
   },
   "file_extension": ".py",
   "mimetype": "text/x-python",
   "name": "python",
   "nbconvert_exporter": "python",
   "pygments_lexer": "ipython3",
   "version": "3.11.9"
  }
 },
 "nbformat": 4,
 "nbformat_minor": 5
}
