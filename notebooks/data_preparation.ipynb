{
 "cells": [
  {
   "cell_type": "markdown",
   "id": "7520dd99-32f7-4404-8a93-ea513d0c27e5",
   "metadata": {},
   "source": [
    "## 🛰️ Imágenes de Cobertura y Uso del Suelo de MapBiomas Colombia – Colección 2 (1985–2023)\n",
    "\n",
    "La Colección 2 de MapBiomas Colombia (1985–2023) ofrece mapas anuales de cobertura y uso del suelo generados a partir de series temporales de imágenes satelitales. Estos datos están disponibles de forma pública como un **asset en Google Earth Engine (GEE)**.\n",
    "\n",
    "### 📦 Asset disponible en GEE\n",
    "- **asset:** projects/mapbiomas-public/assets/colombia/collection2/mapbiomas_colombia_collection2_integration_v1\n",
    "\n",
    "Este asset corresponde a una **imagen multibanda**, donde cada banda representa un año específico. Por ejemplo:\n",
    "\n",
    "- `classification_1985`\n",
    "- `classification_2001`\n",
    "- `classification_2022`\n",
    "- `classification_2023`\n",
    "\n",
    "---\n",
    "\n",
    "## 🧪 Requisitos para usar en JupyterLab desde Docker\n",
    "\n",
    "### 1. Instalar librerías necesarias dentro del contenedor\n",
    "\n",
    "En una celda de Jupyter o desde la terminal del contenedor, es necesario ejecutar:\n",
    "\n",
    "```bash\n",
    "conda install conda-forge::earthengine-api\n",
    "conda install conda-forge::geemap\n",
    "conda install conda-forge::ipyleaflet\n",
    "```"
   ]
  },
  {
   "cell_type": "markdown",
   "id": "84480e13-ab83-43f7-9374-4d5274258428",
   "metadata": {},
   "source": [
    "| 📦 Paquete           | 📝 Función                                                                 |\n",
    "|----------------------|---------------------------------------------------------------------------|\n",
    "| `earthengine-api`    | Para acceder al catálogo de Google Earth Engine (GEE)                     |\n",
    "| `geemap`             | Para visualizar datos geoespaciales en mapas interactivos                |\n",
    "| `jupyter-leaflet`    | Para mostrar mapas dentro de JupyterLab usando `geemap`                  |"
   ]
  },
  {
   "cell_type": "markdown",
   "id": "6a5ba1a7-ae8e-460f-896d-5f2d98dfa2fa",
   "metadata": {},
   "source": [
    "### 2. 🔐 Autenticación en Google Earth Engine\n",
    "\n",
    "Desde el notebook, ejecuta el siguiente código para autenticar tu cuenta de Google Earth Engine:\n",
    "\n",
    "```python\n",
    "import ee\n",
    "\n",
    "# Solo es necesario la primera vez\n",
    "ee.Authenticate()\n",
    "ee.Initialize()\n",
    "```\n",
    "Esto abrirá un enlace en tu navegador donde deberás iniciar sesión con tu cuenta de Google asociada a Earth Engine.\n",
    "Luego, copia el código de verificación que te aparece y pégalo en el campo solicitado del notebook.\n",
    "\n",
    "✅ Este paso solo es necesario una vez por entorno. Si cierras el contenedor o cambias de entorno, puede que debas volver a autenticarte.\n"
   ]
  },
  {
   "cell_type": "code",
   "execution_count": 1,
   "id": "7224d789-e09d-48c4-b6f0-1791407dfa78",
   "metadata": {},
   "outputs": [
    {
     "name": "stdout",
     "output_type": "stream",
     "text": [
      "✅Auteticación y conexión con Google Earth Engine exitosa\n"
     ]
    }
   ],
   "source": [
    "import sys\n",
    "sys.path.append(\"../src\")\n",
    "import data_preprocessing\n",
    "data_preprocessing.authenticate_earth_engine()"
   ]
  },
  {
   "cell_type": "code",
   "execution_count": 2,
   "id": "f219769e-341a-40ee-b839-4e9f49bd87dd",
   "metadata": {
    "scrolled": true
   },
   "outputs": [
    {
     "name": "stdout",
     "output_type": "stream",
     "text": [
      "['classification_1985', 'classification_1986', 'classification_1987', 'classification_1988', 'classification_1989', 'classification_1990', 'classification_1991', 'classification_1992', 'classification_1993', 'classification_1994', 'classification_1995', 'classification_1996', 'classification_1997', 'classification_1998', 'classification_1999', 'classification_2000', 'classification_2001', 'classification_2002', 'classification_2003', 'classification_2004', 'classification_2005', 'classification_2006', 'classification_2007', 'classification_2008', 'classification_2009', 'classification_2010', 'classification_2011', 'classification_2012', 'classification_2013', 'classification_2014', 'classification_2015', 'classification_2016', 'classification_2017', 'classification_2018', 'classification_2019', 'classification_2020', 'classification_2021', 'classification_2022', 'classification_2023']\n"
     ]
    }
   ],
   "source": [
    "# Aqui podrás visualizar las bandas que contiene la imágen de cobertura y uso de MapBiomas Colombia\n",
    "imagen = data_preprocessing.load_mapbiomas_asset()\n",
    "print (imagen.bandNames().getInfo())"
   ]
  },
  {
   "cell_type": "code",
   "execution_count": 3,
   "id": "3e6d01da-c3d2-45a5-bdd9-1a0b6cd8c2a0",
   "metadata": {},
   "outputs": [
    {
     "name": "stdout",
     "output_type": "stream",
     "text": [
      "{'type': 'Projection', 'crs': 'EPSG:4326', 'transform': [0.0002694945852358564, 0, -82.8156860429787, 0, -0.0002694945852358564, 16.131676377633134]}\n"
     ]
    }
   ],
   "source": [
    "# Obtener el sistema de coordenadas de la imagen\n",
    "projection = imagen.projection()\n",
    "# Mostrar el sistema de coordenadas\n",
    "print(projection.getInfo())"
   ]
  },
  {
   "cell_type": "markdown",
   "id": "8941f886-c37d-451f-ac9b-3b1208749453",
   "metadata": {},
   "source": [
    "# ✂️ Recorte y reproyección de capas vectoriales (SHP) a EPSG:\n",
    "Este flujo permite recortar y reproyectar capas como departamentos, resguardos indígenas y áreas protegidas."
   ]
  },
  {
   "cell_type": "markdown",
   "id": "43ea696b-c597-4563-9d10-b6caff2d7e7b",
   "metadata": {},
   "source": [
    "## 1. 📁 Cargar los archivos .shp"
   ]
  },
  {
   "cell_type": "markdown",
   "id": "65c96c6f-ed4f-452d-a48b-c238e356df88",
   "metadata": {},
   "source": [
    "En esta sección es necesario cargar la ruta específica donde tiene guardado la carpeta del proyecto como parámetro de la función"
   ]
  },
  {
   "cell_type": "code",
   "execution_count": 4,
   "id": "7197d97e-cb8c-48eb-aeb6-c19c1533e26d",
   "metadata": {},
   "outputs": [
    {
     "name": "stdout",
     "output_type": "stream",
     "text": [
      "✅Finalizó la función load_geospatial_layers\n"
     ]
    }
   ],
   "source": [
    "dept, reg, resg, runap = data_preprocessing.load_geospatial_layers(\"/notebooks/DEFORESTACION/DATOS\")"
   ]
  },
  {
   "cell_type": "markdown",
   "id": "a4d792b1-8f11-4cec-a04a-489b3cdcb672",
   "metadata": {},
   "source": [
    "## 2. 🧭 Asegurar proyecciones (planas) y recortar al área de estudio (Colombia)"
   ]
  },
  {
   "cell_type": "code",
   "execution_count": 5,
   "id": "ad6ab5f7-cbd3-4f04-ade2-98bd3d9ece60",
   "metadata": {},
   "outputs": [
    {
     "name": "stdout",
     "output_type": "stream",
     "text": [
      "✅Finalizó la función reproject_layers\n"
     ]
    }
   ],
   "source": [
    "# Reproyectar las capas\n",
    "dept_9377, resg_9377, runap_9377, reg_9377 = data_preprocessing.reproject_layers_pl(dept, resg, runap, reg)"
   ]
  },
  {
   "cell_type": "markdown",
   "id": "ccd5b955-e657-463b-b982-3e74ca22ca6f",
   "metadata": {},
   "source": [
    "## 3 🧭 Selección del departamento de la amazonía con menor area de: Parques Nacionales Naturales y Resguardos indígenas\n",
    "\n",
    "A partir de la exploración de los datos se busca identificar el departemento que pueda presentar mayor transformación del uso del suelo, por lo cual, se calcula la proporción de área de parques naturales y resguardos indígenas en departamentos de la región amazónica de Colombia utilizando operaciones espaciales con GeoPandas. \n",
    "\n",
    "- 1. Se determina qué departamentos tienen al menos un 30% de superposición con la región amazónica. \n",
    "- 2. Se calcula las áreas ocupadas por zonas protegidas (RUNAP) y resguardos (resguardos_9377) dentro de esos departamentos.\n",
    "- 3. Se estima el área libre restante y se determina cuál departamento tiene mayor superficie sin protección."
   ]
  },
  {
   "cell_type": "code",
   "execution_count": 6,
   "id": "e51bde49-1f5e-4ff8-ad06-3d16fdb3e02a",
   "metadata": {},
   "outputs": [
    {
     "name": "stderr",
     "output_type": "stream",
     "text": [
      "/notebooks/DEFORESTACION/notebooks/../src/data_preprocessing.py:86: UserWarning: `keep_geom_type=True` in overlay resulted in 227 dropped geometries of different geometry types than df1 has. Set `keep_geom_type=False` to retain all geometries\n",
      "  interseccion = gpd.overlay(dept_9377, resg_9377, how='intersection')\n"
     ]
    },
    {
     "name": "stdout",
     "output_type": "stream",
     "text": [
      "\n",
      "✅ Departamento con mayor área libre dentro de la región (sin parques ni resguardos):\n",
      "- Nombre: Caquetá\n",
      "- Área total en región (m²): 92709074851.22\n",
      "- Área protegida (m²): 0.00\n",
      "- Área libre (m²): 92709074851.22\n",
      "- Proporción libre: 100.00%\n"
     ]
    },
    {
     "name": "stderr",
     "output_type": "stream",
     "text": [
      "/notebooks/DEFORESTACION/notebooks/../src/data_preprocessing.py:102: UserWarning: `keep_geom_type=True` in overlay resulted in 6 dropped geometries of different geometry types than df1 has. Set `keep_geom_type=False` to retain all geometries\n",
      "  resguardos_inter = gpd.overlay(resg_9377, dptos_amazonicos, how='intersection')\n"
     ]
    }
   ],
   "source": [
    "#Exploración de los datos\n",
    "dptos_area, resguardos_area, parques_area, dptos_amazonicos = data_preprocessing.dep_con_menor_area_protegida (dept_9377, resg_9377, runap_9377)"
   ]
  },
  {
   "cell_type": "markdown",
   "id": "81d4cbe3-ff39-4a27-939c-9e7d3fd5fa61",
   "metadata": {},
   "source": [
    "## 4. ✂️ Recortar capas al área de estudio\n",
    "\n",
    "- Se tomó la decisión de seleccionar la departartamento de Caquetá, ya que, según la exploración anterior, es el que presenta menor área protegida (Parques Nacionales Naturales y Resguardos Indígenas). Sin embargo el análisis lo puede realizar para el departamento de interés cambiando el nombre tal como se especifica a continuación:\n",
    "\n",
    "Amazonas - Antioquia - Arauca - Area en Litigio Cauca - Huila - Atlántico - Bolívar - Boyacá - Caldas - Caquetá - Casanare - Cauca - Cesar - Chocó - Cundinamarca - Córdoba - Guainía - Guaviare - Huila - La Guajira - Magdalena - Meta - Nariño - Norte de Santander - Putumayo - Quindío - Risaralda - San Andrés Providencia y Santa Catalina - Santander - Sucre - Tolima - Valle del Cauca - Vaupés - Vichada"
   ]
  },
  {
   "cell_type": "code",
   "execution_count": 7,
   "id": "4df297ac-bcdb-484a-952c-330f1551b71e",
   "metadata": {},
   "outputs": [
    {
     "name": "stdout",
     "output_type": "stream",
     "text": [
      "Departamento seleccionado: Caquetá\n",
      "Cantidad de parques en el departamento: 99\n",
      "Cantidad de resguardos en el departamento: 54\n"
     ]
    }
   ],
   "source": [
    "depto = \"Caquetá\"\n",
    "Departamento, resguardos_dpto, parques_dpto = data_preprocessing.recortar_capas_por_departamento(dept_9377, resg_9377, runap_9377, depto)"
   ]
  },
  {
   "cell_type": "markdown",
   "id": "06d44159-f106-4e76-b712-e158fa6af8db",
   "metadata": {},
   "source": [
    "## ✅ 5.🧭 Reproyección de capas a 4326"
   ]
  },
  {
   "cell_type": "markdown",
   "id": "40b5b711-3fc3-4e3c-8af0-6d002fbe761f",
   "metadata": {},
   "source": [
    "Es fundamental que todas las capas involucradas en un análisis espacial compartan el mismo sistema de referencia de coordenadas (CRS, por sus siglas en inglés). Cuando las capas tienen diferentes proyecciones, pueden surgir errores en operaciones como intersecciones, uniones espaciales, análisis de distancias o generación de mapas.\n",
    "\n",
    "En este paso, se reproyectan todas las capas vectoriales al sistema de referencia de coordenadas (CRS) del ráster, asegurando una compatibilidad total para los análisis posteriores."
   ]
  },
  {
   "cell_type": "code",
   "execution_count": 8,
   "id": "d62aa889-2681-4116-b72d-9e51a931da09",
   "metadata": {},
   "outputs": [
    {
     "name": "stdout",
     "output_type": "stream",
     "text": [
      "✅Finalizó la función reproject_layers\n"
     ]
    }
   ],
   "source": [
    "dpto_4326, resguardos_dpto_4326, parques_dpto_4326 = data_preprocessing.reproject_layers(Departamento, resguardos_dpto, parques_dpto)"
   ]
  },
  {
   "cell_type": "markdown",
   "id": "7a6feff1-6ddb-4458-a091-451f958a4d54",
   "metadata": {},
   "source": [
    "## 6. ✅ Guardar las capas recortadas y reproyectadas"
   ]
  },
  {
   "cell_type": "markdown",
   "id": "671cf3c9-9a19-464d-9596-4c772544610c",
   "metadata": {},
   "source": [
    "En esta sección es necesario cargar la ruta específica de la carpeta donde se quiere guardar las capas recortadas"
   ]
  },
  {
   "cell_type": "code",
   "execution_count": 9,
   "id": "1601f5b2-7e8d-409e-b88d-93d72939a07b",
   "metadata": {},
   "outputs": [
    {
     "name": "stdout",
     "output_type": "stream",
     "text": [
      "✅ Capas guardadas correctamente en: /notebooks/DEFORESTACION/results/CAPAS_DPTO\n"
     ]
    }
   ],
   "source": [
    "carpeta = r\"/notebooks/DEFORESTACION/results/CAPAS_DPTO\"\n",
    "data_preprocessing.save_layers(dpto_4326, resguardos_dpto_4326, parques_dpto_4326, carpeta)"
   ]
  },
  {
   "cell_type": "markdown",
   "id": "10b2afeb-c4e6-4bfe-b614-a569173d541d",
   "metadata": {},
   "source": [
    "## 7. ✅ Recortar raster al área de estudio"
   ]
  },
  {
   "cell_type": "code",
   "execution_count": 10,
   "id": "0dbe94d6-1ab5-44b9-b162-bc7021e29d50",
   "metadata": {},
   "outputs": [
    {
     "name": "stdout",
     "output_type": "stream",
     "text": [
      "✅ Capas  convertidas correctamente\n"
     ]
    }
   ],
   "source": [
    "cober_clipped = data_preprocessing.clip_raster_to_region(dpto_4326)"
   ]
  },
  {
   "cell_type": "markdown",
   "id": "9b31074f-47ff-4ee0-9f67-ba0fa491e49c",
   "metadata": {},
   "source": [
    "## 8. ✅ Exportar imágenes a google Drive (multibanda)"
   ]
  },
  {
   "cell_type": "code",
   "execution_count": 11,
   "id": "2b5f4c05-265e-4bcf-870f-e041a406dbe6",
   "metadata": {},
   "outputs": [
    {
     "name": "stdin",
     "output_type": "stream",
     "text": [
      "📅 Ingrese el año inicial (ej: 2019):  2019\n",
      "📅 Ingrese el año final (ej: 2023):  2023\n"
     ]
    },
    {
     "name": "stdout",
     "output_type": "stream",
     "text": [
      "✅ Años seleccionados: ['2019', '2020', '2021', '2022', '2023']\n",
      "✅ Bandas seleccionadas: ['classification_2019', 'classification_2020', 'classification_2021', 'classification_2022', 'classification_2023']\n",
      "🚀 Exportación iniciada: Mapbiomas_from_2019_to_2023. Revisa la pestaña 'Tasks' en Earth Engine.\n"
     ]
    }
   ],
   "source": [
    "data_preprocessing.exportar_bandas_mapbiomas(cober_clipped, dpto_4326)"
   ]
  }
 ],
 "metadata": {
  "kernelspec": {
   "display_name": "Python 3 (ipykernel)",
   "language": "python",
   "name": "python3"
  },
  "language_info": {
   "codemirror_mode": {
    "name": "ipython",
    "version": 3
   },
   "file_extension": ".py",
   "mimetype": "text/x-python",
   "name": "python",
   "nbconvert_exporter": "python",
   "pygments_lexer": "ipython3",
   "version": "3.11.9"
  }
 },
 "nbformat": 4,
 "nbformat_minor": 5
}
