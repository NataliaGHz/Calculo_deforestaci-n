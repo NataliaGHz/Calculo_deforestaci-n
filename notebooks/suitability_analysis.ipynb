{
 "cells": [
  {
   "cell_type": "markdown",
   "id": "954e8c88-1fa0-4f8b-8a0a-aeed1703810f",
   "metadata": {},
   "source": [
    "# 📊 Análisis de Transiciones entre Coberturas\n",
    "\n",
    "\n",
    "#### 📝 Descripción general\n",
    "En este notebook se desarrollan los análisis espaciales requeridos para identificar las transiciones entre coberturas y usos del suelo en el departamento seleccionado previamente. El análisis se enfoca en cambios ocurridos entre distintos periodos temporales, permitiendo caracterizar los procesos territoriales más relevantes en la región."
   ]
  },
  {
   "cell_type": "code",
   "execution_count": 1,
   "id": "f0235c67-fbfc-4804-895a-ad771a71ea1f",
   "metadata": {},
   "outputs": [],
   "source": [
    "import sys\n",
    "sys.path.append(\"../src\")\n",
    "import analysis_functions"
   ]
  },
  {
   "cell_type": "markdown",
   "id": "5fbd5c88-800f-4292-9385-43acb26b8857",
   "metadata": {},
   "source": [
    "## 2. 🌳 Reclasificación de coberturas"
   ]
  },
  {
   "cell_type": "markdown",
   "id": "e4f6ed67-3398-4dd0-963e-f6adffc33a14",
   "metadata": {},
   "source": [
    "En esta sección se carga la ruta de la imagen de cobertura y uso del suelo previamente descargada desde Google Earth Engine y se define la carpeta de salida de la reclasificación.\n"
   ]
  },
  {
   "cell_type": "code",
   "execution_count": 2,
   "id": "43e3853e-3c59-4631-a184-1d0b70d767cd",
   "metadata": {},
   "outputs": [
    {
     "name": "stdout",
     "output_type": "stream",
     "text": [
      "🗂️ Acceso exitoso al archivo: /notebooks/DEFORESTACION/results/COBER_DPTO/Mapbiomas_from_2019_to_2023.tif\n"
     ]
    },
    {
     "data": {
      "text/plain": [
       "True"
      ]
     },
     "execution_count": 2,
     "metadata": {},
     "output_type": "execute_result"
    }
   ],
   "source": [
    "# Definir ruta local\n",
    "root_folder = \"/notebooks\"\n",
    "carpeta_imagenes = root_folder + \"/DEFORESTACION/results/COBER_DPTO/Mapbiomas_from_2019_to_2023.tif\"\n",
    "carpeta_salida = root_folder + \"/DEFORESTACION/results/RECLASS\"\n",
    "\n",
    "analysis_functions.verificar_acceso_archivo(carpeta_imagenes)"
   ]
  },
  {
   "cell_type": "markdown",
   "id": "fa3b9243-6be7-433a-9dfd-e5e3a1120c54",
   "metadata": {},
   "source": [
    "### 2.2 🗂️ Categorías de clasificación\n",
    "\n",
    "Para facilitar el análisis de transiciones territoriales, se realiza una reclasificación temática de las clases originales de MapBiomas a categorías más agregadas. En esta etapa cada banda representa un año, y cada píxel ha sido reclasificado en tres clases principales:\n",
    "\n",
    "| Clase               | Código | Descripción                                                                                                                                              |\n",
    "|---------------------|--------|----------------------------------------------------------------------------------------------------------------------------------------------------------|\n",
    "| Bosque              | 1      | Incluye coberturas forestales con mínima intervención antrópica. Esta clase representa ecosistemas conservados o en buen estado ecológico.              |\n",
    "| Cobertura natural   | 2      | Agrupa coberturas naturales distintas al bosque, como cuerpos de agua, zonas húmedas, herbazales o vegetación secundaria en regeneración temprana. Se incluyen aquí áreas que, si bien no son bosques cerrados, mantienen rasgos naturales y funciones ecosistémicas relevantes. |\n",
    "| Uso antrópico       | 3      | Comprende todas aquellas clases que han sido transformadas por actividades humanas. Incluye agricultura, pastos, infraestructura urbana, minería y otras intervenciones que alteran sustancialmente el uso del suelo. |\n",
    "\n",
    "\n",
    "La clasificación se implementa mediante una función de mapeo donde cada clase original es asignada a una de las tres categorías agregadas. El resultado es una imagen simplificada con valores únicos para cada tipo de cobertura agregada, facilitando el análisis espacial y temporal de las transiciones.\n"
   ]
  },
  {
   "cell_type": "code",
   "execution_count": 3,
   "id": "5b907efc-1932-4f75-bdd4-05419abd62ac",
   "metadata": {},
   "outputs": [
    {
     "name": "stdout",
     "output_type": "stream",
     "text": [
      "✅ Imagen reclasificada guardada en: /notebooks/DEFORESTACION/results/RECLASS/Mapbiomas_from_2019_to_2023_reclass.tif\n"
     ]
    }
   ],
   "source": [
    "# Reclasificar\n",
    "reclasificado = analysis_functions.reclasificar_coberturas_mapbiomas(carpeta_imagenes, carpeta_salida)"
   ]
  },
  {
   "cell_type": "markdown",
   "id": "495f951f-e0d6-4e5c-a924-e47e31b10b58",
   "metadata": {},
   "source": [
    "## 3. 📊 Calcular transiciones"
   ]
  },
  {
   "cell_type": "markdown",
   "id": "3e1907ee-fc55-4d09-95d7-5f770eb7c435",
   "metadata": {},
   "source": [
    "En esta sección se carga la ruta de la imagen de cobertura y uso del suelo previamente reclasificada"
   ]
  },
  {
   "cell_type": "code",
   "execution_count": 4,
   "id": "3d3e59bb-d215-45e4-a1a7-2b2720aa917e",
   "metadata": {},
   "outputs": [],
   "source": [
    "#Paso 1: Importar funciones del archivo .py\n",
    "#from mapbiomas_utils import solicitar_anios, cargar_imagenes_mapbiomas, visualizar_imagenes_mapbiomas\n",
    "\n",
    "# Paso 2: Definir ruta local\n",
    "root_folder = \"/notebooks\"\n",
    "carpeta_imagenes = root_folder + \"/DEFORESTACION/results/RECLASS/Mapbiomas_from_2019_to_2023_reclass.tif\"\n",
    "carpeta_salida = root_folder + \"/DEFORESTACION/results/TRANSICIONES\""
   ]
  },
  {
   "cell_type": "markdown",
   "id": "e206588c-8bca-4cf9-9ac8-dfc8885eb699",
   "metadata": {},
   "source": [
    "Esta función calcula las transiciones de cobertura y uso del suelo a partir de una imagen multibanda reclasificada. Se comparan pares consecutivos de bandas (por ejemplo, 2001 vs 2002, 2002 vs 2003, etc.). Para ello es necesario especificar el año inicial sociado a la primera banda como parámetro dentro de la función.\n",
    "\n",
    "Para cada par de años, se genera una nueva capa raster donde:\n",
    "\n",
    "| Código | Nombre           | Descripción                                                                 |\n",
    "|--------|------------------|-----------------------------------------------------------------------------|\n",
    "| 0      | Sin cambio       | La clase de cobertura se mantiene entre años consecutivos.                 |\n",
    "| 1      | Deforestación    | Transición de bosque a uso antrópico.                                      |\n",
    "| 2      | Regeneración     | Transición de uso antrópico a bosque.                                      |\n",
    "| 3      | Degradación      | Transición de bosque a cobertura natural no forestal.                      |\n",
    "| 4      | Otro             | Cualquier otra transición no incluida en las anteriores.                   |\n",
    "\n",
    "\n",
    "Cada imagen de transición se guarda como archivo GeoTIFF independiente, nombrado como transicion_{anio1}_to_{anio2}.tif."
   ]
  },
  {
   "cell_type": "code",
   "execution_count": 5,
   "id": "293f67e2-418b-4d8a-ab0c-944bb2431c25",
   "metadata": {},
   "outputs": [
    {
     "name": "stdout",
     "output_type": "stream",
     "text": [
      "✅ Transición calculada y exportada: transicion_2019_to_2020.tif\n",
      "✅ Transición calculada y exportada: transicion_2020_to_2021.tif\n",
      "✅ Transición calculada y exportada: transicion_2021_to_2022.tif\n",
      "✅ Transición calculada y exportada: transicion_2022_to_2023.tif\n"
     ]
    }
   ],
   "source": [
    "transiciones_dict = analysis_functions.calcular_transiciones(carpeta_imagenes, 2019, carpeta_salida)"
   ]
  }
 ],
 "metadata": {
  "kernelspec": {
   "display_name": "Python 3 (ipykernel)",
   "language": "python",
   "name": "python3"
  },
  "language_info": {
   "codemirror_mode": {
    "name": "ipython",
    "version": 3
   },
   "file_extension": ".py",
   "mimetype": "text/x-python",
   "name": "python",
   "nbconvert_exporter": "python",
   "pygments_lexer": "ipython3",
   "version": "3.11.9"
  }
 },
 "nbformat": 4,
 "nbformat_minor": 5
}
